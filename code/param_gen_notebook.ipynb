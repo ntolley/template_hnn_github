{
 "cells": [
  {
   "cell_type": "markdown",
   "metadata": {},
   "source": [
    "# Param Generator Notebook\n",
    "### Tests functionality of generated param files before committing to a script"
   ]
  },
  {
   "cell_type": "code",
   "execution_count": 23,
   "metadata": {},
   "outputs": [],
   "source": [
    "import numpy as np\n",
    "import os\n",
    "from param_functions import fileio, paramrw, params_default, param_gen_utils\n",
    "import fnmatch\n",
    "import datalad\n",
    "from pathlib import Path\n"
   ]
  },
  {
   "cell_type": "markdown",
   "metadata": {},
   "source": [
    "### Load default params"
   ]
  },
  {
   "cell_type": "code",
   "execution_count": 43,
   "metadata": {},
   "outputs": [
    {
     "output_type": "execute_result",
     "data": {
      "text/plain": "['gbar_evprox_1_L2Pyr_ampa',\n 'gbar_evprox_1_L5Pyr_ampa',\n 'gbar_evdist_1_L2Pyr_ampa',\n 'gbar_evdist_1_L5Pyr_ampa',\n 'gbar_evprox_2_L2Pyr_ampa',\n 'gbar_evprox_2_L5Pyr_ampa']"
     },
     "metadata": {},
     "execution_count": 43
    }
   ],
   "source": [
    "gid_dict, p = paramrw.read('../param/standard_params/18oct24_17nov13_jyrki_good_3trials_opt.param') \n",
    "\n",
    "#Random number generator inputs need to be ints, HNN won't recognize as floats\n",
    "p['prng_seedcore_input_prox'] = 13\n",
    "p['prng_seedcore_input_dist'] = 14\n",
    "p['prng_seedcore_extpois'] = 4\n",
    "p['prng_seedcore_extgauss'] = 4\n",
    "p['prng_seedcore_evprox_1'] = 4\n",
    "p['prng_seedcore_evdist_1'] = 4\n",
    "p['prng_seedcore_evprox_2'] = 4\n",
    "p['prng_seedcore_evdist_2'] = 0\n",
    "\n",
    "\n",
    "p_array = p.copy() # Will be altered to store arrays off parameters to sweep over\n",
    "\n",
    "p_keys = list(p.keys()) \n",
    "sweep_params = [key for key in p_keys if fnmatch.fnmatch(key,'*gbar_ev*') and fnmatch.fnmatch(key,'*ampa*') and fnmatch.fnmatch(key,'*Pyr*')] #Search for specific keys\n",
    "sweep_params\n"
   ]
  },
  {
   "cell_type": "code",
   "execution_count": 50,
   "metadata": {},
   "outputs": [],
   "source": [
    "#Update array dict and unpack into a list of each permutation\n",
    "for s in sweep_params:\n",
    "    p_array[s] = np.linspace(0,50,4)\n",
    "\n",
    "p_array_unpacked = param_gen_utils.dict_expand(p_array)\n"
   ]
  },
  {
   "cell_type": "code",
   "execution_count": 60,
   "metadata": {},
   "outputs": [
    {
     "output_type": "execute_result",
     "data": {
      "text/plain": "False"
     },
     "metadata": {},
     "execution_count": 60
    }
   ],
   "source": [
    "not os.path.exists('../param/{}'.format('standard_params/'))"
   ]
  },
  {
   "cell_type": "code",
   "execution_count": null,
   "metadata": {},
   "outputs": [],
   "source": []
  }
 ],
 "metadata": {
  "language_info": {
   "codemirror_mode": {
    "name": "ipython",
    "version": 3
   },
   "file_extension": ".py",
   "mimetype": "text/x-python",
   "name": "python",
   "nbconvert_exporter": "python",
   "pygments_lexer": "ipython3",
   "version": "3.7.6-final"
  },
  "orig_nbformat": 2,
  "kernelspec": {
   "name": "python3",
   "display_name": "Python 3"
  }
 },
 "nbformat": 4,
 "nbformat_minor": 2
}