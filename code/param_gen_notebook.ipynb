{
 "cells": [
  {
   "cell_type": "markdown",
   "metadata": {},
   "source": [
    "# Param Generator Notebook\n",
    "### Tests functionality of generated param files before committing to a script"
   ]
  },
  {
   "cell_type": "code",
   "execution_count": 2,
   "metadata": {},
   "outputs": [
    {
     "output_type": "stream",
     "name": "stderr",
     "text": "[WARNING] realpath of PWD=/mnt/c/Users/Nick/.vscode/extensions/ms-vscode-remote.remote-wsl-0.44.2 is /mnt/c/Users/Nick/.vscode/extensions/ms-vscode-remote.remote-wsl-0.44.2 whenever os.getcwd()=/home/ntolley/Jones_Lab/template_hnn_local/code. From now on will be returning os.getcwd(). Directory symlinks in the paths will be resolved \n"
    }
   ],
   "source": [
    "import numpy as np\n",
    "import os\n",
    "from param_functions import *\n",
    "import fnmatch\n",
    "import datalad"
   ]
  },
  {
   "cell_type": "markdown",
   "metadata": {},
   "source": [
    "### Load default params"
   ]
  },
  {
   "cell_type": "code",
   "execution_count": 4,
   "metadata": {},
   "outputs": [
    {
     "output_type": "execute_result",
     "data": {
      "text/plain": "['gbar_evprox_1_L2Pyr_ampa',\n 'gbar_evprox_1_L5Pyr_ampa',\n 'gbar_evprox_2_L2Pyr_ampa',\n 'gbar_evprox_2_L5Pyr_ampa',\n 'gbar_evdist_1_L2Pyr_ampa',\n 'gbar_evdist_1_L5Pyr_ampa']"
     },
     "metadata": {},
     "execution_count": 4
    }
   ],
   "source": [
    "gid_dict, p = paramrw.read('') \n",
    "p_array = p.copy() # Will be altered to store arrays off parameters to sweep over\n",
    "\n",
    "p_keys = list(p.keys()) \n",
    "sweep_params = [key for key in p_keys if fnmatch.fnmatch(key,'*gbar_ev*') and fnmatch.fnmatch(key,'*ampa*') and fnmatch.fnmatch(key,'*Pyr*')] #Search for specific keys\n",
    "sweep_params\n"
   ]
  },
  {
   "cell_type": "code",
   "execution_count": 9,
   "metadata": {},
   "outputs": [],
   "source": [
    "#Update array dict and unpack into a list of each permutation\n",
    "for s in sweep_params:\n",
    "    p_array[s] = np.linspace(0,10,3)\n",
    "\n",
    "p_array_unpacked = param_gen_utils.dict_expand(p_array)\n"
   ]
  },
  {
   "cell_type": "code",
   "execution_count": 10,
   "metadata": {},
   "outputs": [
    {
     "output_type": "execute_result",
     "data": {
      "text/plain": "729"
     },
     "metadata": {},
     "execution_count": 10
    }
   ],
   "source": [
    "len(p_array_unpacked)"
   ]
  },
  {
   "cell_type": "code",
   "execution_count": null,
   "metadata": {},
   "outputs": [],
   "source": []
  }
 ],
 "metadata": {
  "language_info": {
   "codemirror_mode": {
    "name": "ipython",
    "version": 3
   },
   "file_extension": ".py",
   "mimetype": "text/x-python",
   "name": "python",
   "nbconvert_exporter": "python",
   "pygments_lexer": "ipython3",
   "version": "3.7.6-final"
  },
  "orig_nbformat": 2,
  "kernelspec": {
   "name": "python3",
   "display_name": "Python 3"
  }
 },
 "nbformat": 4,
 "nbformat_minor": 2
}